{
 "cells": [
  {
   "cell_type": "code",
   "execution_count": 15,
   "id": "ebb8534b-3805-43a2-9472-90b569897c9f",
   "metadata": {
    "pycharm": {
     "name": "#%%\n"
    }
   },
   "outputs": [],
   "source": [
    "from pyspark.sql import SparkSession\n",
    "from pyspark.sql.functions import *\n",
    "\n",
    "\n",
    "import matplotlib.pyplot as plt\n",
    "import seaborn as sns\n",
    "\n",
    "from scipy import stats\n",
    "from scipy.stats import norm, skew \n",
    "\n",
    "from pyspark.ml import Pipeline\n",
    "from pyspark.ml.feature import StringIndexer, VectorAssembler,MinMaxScaler\n",
    "from pyspark.ml.regression import LinearRegression\n",
    "from pyspark.ml.classification import LogisticRegression\n",
    "\n",
    "\n",
    "\n",
    "\n"
   ]
  },
  {
   "cell_type": "markdown",
   "id": "ba4ff03a-b99c-44df-9086-e5ce5356cc39",
   "metadata": {
    "pycharm": {
     "name": "#%% md\n"
    }
   },
   "source": [
    "# Create Spark Session and Read the file"
   ]
  },
  {
   "cell_type": "code",
   "execution_count": 100,
   "id": "6253d572-5cb7-4612-a83d-c45d63b66eec",
   "metadata": {
    "pycharm": {
     "name": "#%%\n"
    }
   },
   "outputs": [],
   "source": [
    "\n",
    "spark = SparkSession.builder.appName(\"Invistico_Airline\").getOrCreate()\n",
    "df = spark.read.csv('../data/Invistico_Airline.csv',inferSchema=True,header=True)\n"
   ]
  },
  {
   "cell_type": "markdown",
   "id": "049871a4-e1e1-4862-bc09-8b1c24984cbb",
   "metadata": {
    "pycharm": {
     "name": "#%% md\n"
    }
   },
   "source": [
    "# Summary of dataset"
   ]
  },
  {
   "cell_type": "code",
   "execution_count": 103,
   "id": "c0346e99-49c4-4838-83ff-a485dbeb4728",
   "metadata": {
    "pycharm": {
     "name": "#%%\n"
    }
   },
   "outputs": [
    {
     "data": {
      "text/plain": [
       "<bound method DataFrame.summary of DataFrame[satisfaction: string, Gender: string, Customer Type: string, Age: int, Type of Travel: string, Class: string, Flight Distance: int, Seat comfort: int, Departure/Arrival time convenient: int, Food and drink: int, Gate location: int, Inflight wifi service: int, Inflight entertainment: int, Online support: int, Ease of Online booking: int, On-board service: int, Leg room service: int, Baggage handling: int, Checkin service: int, Cleanliness: int, Online boarding: int, Departure Delay in Minutes: int, Arrival Delay in Minutes: int]>"
      ]
     },
     "execution_count": 103,
     "metadata": {},
     "output_type": "execute_result"
    }
   ],
   "source": [
    "df.summary"
   ]
  },
  {
   "cell_type": "code",
   "execution_count": 105,
   "id": "861ff160-4e9d-4cc2-92af-6f781482156e",
   "metadata": {
    "pycharm": {
     "name": "#%%\n"
    }
   },
   "outputs": [
    {
     "name": "stdout",
     "output_type": "stream",
     "text": [
      "root\n",
      " |-- satisfaction: string (nullable = true)\n",
      " |-- Gender: string (nullable = true)\n",
      " |-- Customer Type: string (nullable = true)\n",
      " |-- Age: integer (nullable = true)\n",
      " |-- Type of Travel: string (nullable = true)\n",
      " |-- Class: string (nullable = true)\n",
      " |-- Flight Distance: integer (nullable = true)\n",
      " |-- Seat comfort: integer (nullable = true)\n",
      " |-- Departure/Arrival time convenient: integer (nullable = true)\n",
      " |-- Food and drink: integer (nullable = true)\n",
      " |-- Gate location: integer (nullable = true)\n",
      " |-- Inflight wifi service: integer (nullable = true)\n",
      " |-- Inflight entertainment: integer (nullable = true)\n",
      " |-- Online support: integer (nullable = true)\n",
      " |-- Ease of Online booking: integer (nullable = true)\n",
      " |-- On-board service: integer (nullable = true)\n",
      " |-- Leg room service: integer (nullable = true)\n",
      " |-- Baggage handling: integer (nullable = true)\n",
      " |-- Checkin service: integer (nullable = true)\n",
      " |-- Cleanliness: integer (nullable = true)\n",
      " |-- Online boarding: integer (nullable = true)\n",
      " |-- Departure Delay in Minutes: integer (nullable = true)\n",
      " |-- Arrival Delay in Minutes: integer (nullable = true)\n",
      "\n"
     ]
    }
   ],
   "source": [
    "df.printSchema()"
   ]
  },
  {
   "cell_type": "markdown",
   "id": "05ec931b-ffb1-4223-a9ab-7f323f574125",
   "metadata": {
    "pycharm": {
     "name": "#%% md\n"
    }
   },
   "source": [
    "# Checking for null values"
   ]
  },
  {
   "cell_type": "code",
   "execution_count": 104,
   "id": "e981117a-518b-436e-9d50-c94dba9757f9",
   "metadata": {
    "pycharm": {
     "name": "#%%\n"
    }
   },
   "outputs": [
    {
     "name": "stdout",
     "output_type": "stream",
     "text": [
      "+------------+------+-------------+---+--------------+-----+---------------+------------+---------------------------------+--------------+-------------+---------------------+----------------------+--------------+----------------------+----------------+----------------+----------------+---------------+-----------+---------------+--------------------------+------------------------+\n",
      "|satisfaction|Gender|Customer Type|Age|Type of Travel|Class|Flight Distance|Seat comfort|Departure/Arrival time convenient|Food and drink|Gate location|Inflight wifi service|Inflight entertainment|Online support|Ease of Online booking|On-board service|Leg room service|Baggage handling|Checkin service|Cleanliness|Online boarding|Departure Delay in Minutes|Arrival Delay in Minutes|\n",
      "+------------+------+-------------+---+--------------+-----+---------------+------------+---------------------------------+--------------+-------------+---------------------+----------------------+--------------+----------------------+----------------+----------------+----------------+---------------+-----------+---------------+--------------------------+------------------------+\n",
      "|           0|     0|            0|  0|             0|    0|              0|           0|                                0|             0|            0|                    0|                     0|             0|                     0|               0|               0|               0|              0|          0|              0|                         0|                     393|\n",
      "+------------+------+-------------+---+--------------+-----+---------------+------------+---------------------------------+--------------+-------------+---------------------+----------------------+--------------+----------------------+----------------+----------------+----------------+---------------+-----------+---------------+--------------------------+------------------------+\n",
      "\n"
     ]
    }
   ],
   "source": [
    "from pyspark.sql.functions import col,isnan, when, count\n",
    "\n",
    "df.select([count(when(isnan(c) | col(c).isNull(), c)).alias(c) for c in df.columns]).show()\n"
   ]
  },
  {
   "cell_type": "markdown",
   "id": "162b4adc-912a-4df8-8470-9782a59160a7",
   "metadata": {
    "pycharm": {
     "name": "#%% md\n"
    }
   },
   "source": []
  },
  {
   "cell_type": "code",
   "execution_count": 72,
   "id": "9735ddee-4161-4193-a1d0-66ed9c11914d",
   "metadata": {
    "pycharm": {
     "name": "#%%\n"
    }
   },
   "outputs": [],
   "source": [
    "# df['Arrival Delay in Minutes']\n",
    "# df.groupBy('Arrival Delay in Minutes').count()\n",
    "\n"
   ]
  },
  {
   "cell_type": "markdown",
   "id": "240e89f6-2062-4aba-94ab-dea2693b9891",
   "metadata": {
    "pycharm": {
     "name": "#%% md\n"
    }
   },
   "source": [
    "## Imputing null values\n",
    "### Only column \"Arrival Delay in Minutes\" has null values"
   ]
  },
  {
   "cell_type": "code",
   "execution_count": 107,
   "id": "0da4b532-27d5-4cf1-986a-8adcead82f90",
   "metadata": {
    "pycharm": {
     "name": "#%%\n"
    }
   },
   "outputs": [],
   "source": [
    "\n",
    "val = float(df.describe(\"Arrival Delay in Minutes\").filter(\"summary = 'max'\").select(\"Arrival Delay in Minutes\").collect()[0].asDict()['Arrival Delay in Minutes'])\n"
   ]
  },
  {
   "cell_type": "code",
   "execution_count": 108,
   "id": "0096a157-ead4-4213-b453-ae880824ad16",
   "metadata": {
    "pycharm": {
     "name": "#%%\n"
    }
   },
   "outputs": [],
   "source": [
    "from pyspark.ml.feature import Imputer\n",
    "\n",
    "imputer = Imputer(inputCol='Arrival Delay in Minutes',\n",
    "                 outputCol='ADMI',\n",
    "                ).setStrategy(\"median\").setMissingValue(val)\n",
    "\n",
    "df = imputer.fit(df).transform(df)\n",
    "df = df.drop('Arrival Delay in Minutes')\n"
   ]
  },
  {
   "cell_type": "code",
   "execution_count": 109,
   "id": "68ef5ce1-81d8-4039-afd4-93674b090d38",
   "metadata": {
    "pycharm": {
     "name": "#%%\n"
    }
   },
   "outputs": [
    {
     "name": "stdout",
     "output_type": "stream",
     "text": [
      "+------------+------+-------------+---+--------------+-----+---------------+------------+---------------------------------+--------------+-------------+---------------------+----------------------+--------------+----------------------+----------------+----------------+----------------+---------------+-----------+---------------+--------------------------+----+\n",
      "|satisfaction|Gender|Customer Type|Age|Type of Travel|Class|Flight Distance|Seat comfort|Departure/Arrival time convenient|Food and drink|Gate location|Inflight wifi service|Inflight entertainment|Online support|Ease of Online booking|On-board service|Leg room service|Baggage handling|Checkin service|Cleanliness|Online boarding|Departure Delay in Minutes|ADMI|\n",
      "+------------+------+-------------+---+--------------+-----+---------------+------------+---------------------------------+--------------+-------------+---------------------+----------------------+--------------+----------------------+----------------+----------------+----------------+---------------+-----------+---------------+--------------------------+----+\n",
      "|           0|     0|            0|  0|             0|    0|              0|           0|                                0|             0|            0|                    0|                     0|             0|                     0|               0|               0|               0|              0|          0|              0|                         0|   0|\n",
      "+------------+------+-------------+---+--------------+-----+---------------+------------+---------------------------------+--------------+-------------+---------------------+----------------------+--------------+----------------------+----------------+----------------+----------------+---------------+-----------+---------------+--------------------------+----+\n",
      "\n"
     ]
    }
   ],
   "source": [
    "df.select([count(when(isnan(c) | col(c).isNull(), c)).alias(c) for c in df.columns]).show()\n",
    "\n"
   ]
  },
  {
   "cell_type": "markdown",
   "id": "95e7b0c4-9d7f-49ea-883a-a8d31d92e616",
   "metadata": {
    "pycharm": {
     "name": "#%% md\n"
    }
   },
   "source": [
    "### split dta into test and train"
   ]
  },
  {
   "cell_type": "code",
   "execution_count": 58,
   "id": "20a3cf79-5762-46fc-b394-3c6bf19560df",
   "metadata": {
    "pycharm": {
     "name": "#%%\n"
    }
   },
   "outputs": [],
   "source": [
    "train, test = df.randomSplit([0.77, 0.33])"
   ]
  },
  {
   "cell_type": "code",
   "execution_count": 110,
   "id": "9fdea68c-abb2-4649-8e5d-0b33fcaa88ed",
   "metadata": {
    "pycharm": {
     "name": "#%%\n"
    }
   },
   "outputs": [
    {
     "name": "stdout",
     "output_type": "stream",
     "text": [
      "<class 'pyspark.sql.dataframe.DataFrame'>\n"
     ]
    }
   ],
   "source": [
    "print(type(train))"
   ]
  },
  {
   "cell_type": "markdown",
   "id": "fff43ade-e01d-4819-8dca-48a16fe42f20",
   "metadata": {
    "pycharm": {
     "name": "#%% md\n"
    }
   },
   "source": [
    "# ML pipeline"
   ]
  },
  {
   "cell_type": "code",
   "execution_count": 111,
   "id": "134572d4-3bd5-4dde-9327-61d1650db579",
   "metadata": {
    "pycharm": {
     "name": "#%%\n"
    }
   },
   "outputs": [],
   "source": [
    "\n",
    "categorical_features = ['satisfaction',\n",
    " 'Gender',\n",
    " 'Customer Type',\n",
    " 'Type of Travel',\n",
    " 'Class',\n",
    " 'Seat comfort',\n",
    " 'Departure/Arrival time convenient',\n",
    " 'Food and drink',\n",
    " 'Gate location',\n",
    " 'Inflight wifi service',\n",
    " 'Inflight entertainment',\n",
    " 'Online support',\n",
    " 'Ease of Online booking',\n",
    " 'On-board service',\n",
    " 'Leg room service',\n",
    " 'Baggage handling',\n",
    " 'Checkin service',\n",
    " 'Cleanliness',\n",
    " 'Online boarding']\n",
    "\n",
    "continues_features = ['Age',\n",
    " 'Flight Distance',\n",
    " 'Departure Delay in Minutes',\n",
    " 'ADMI']\n",
    "\n",
    "\n",
    "pipeline_list=[]\n",
    "featuress = []\n",
    "\n",
    "# StringIndexer to convert string values into numerical\n",
    "[pipeline_list.append(StringIndexer(inputCol=c, outputCol= c+'_indexed')) for c in categorical_features]\n",
    "[featuress.append(c+'_indexed') for c in categorical_features]\n",
    "\n",
    "\n",
    "# Feature Scaling\n",
    "assembler = VectorAssembler(inputCols=continues_features, outputCol='continuous_features')\n",
    "pipeline_list.append(assembler)\n",
    "\n",
    "minmaxscalar = MinMaxScaler(inputCol='continuous_features', outputCol='continuous_features_scaled')\n",
    "pipeline_list.append(minmaxscalar)\n",
    "featuress.append('continuous_features_scaled')\n",
    "\n",
    "assembler_final = VectorAssembler(inputCols=['satisfaction_indexed', 'Gender_indexed', 'Customer Type_indexed', 'Type of Travel_indexed', 'Class_indexed', 'Seat comfort_indexed', 'Departure/Arrival time convenient_indexed', 'Food and drink_indexed', 'Gate location_indexed', 'Inflight wifi service_indexed', 'Inflight entertainment_indexed', 'Online support_indexed', 'Ease of Online booking_indexed', 'On-board service_indexed', 'Leg room service_indexed', 'Baggage handling_indexed', 'Checkin service_indexed', 'Cleanliness_indexed', 'Online boarding_indexed', 'continuous_features_scaled'],\n",
    "                                  outputCol='features')\n",
    "pipeline_list.append(assembler_final)\n",
    "\n",
    "\n",
    "label_encoder = StringIndexer(inputCol='satisfaction', outputCol= 'satisfaction_encoded')\n",
    "pipeline_list.append(label_encoder)\n",
    "featuress.append('satisfaction_encoded')\n",
    "\n",
    "# ml model\n",
    "model = LogisticRegression(featuresCol = 'features', labelCol = 'satisfaction_encoded', maxIter=5)\n",
    "pipeline_list.append(model)\n",
    "\n",
    "pipeline = Pipeline(stages=pipeline_list)\n",
    "\n",
    "pipeline_model = pipeline.fit(train)\n",
    "data_train = pipeline_model.transform(train)\n"
   ]
  },
  {
   "cell_type": "code",
   "execution_count": 114,
   "id": "3c68ea18-0823-4fd6-aecb-08b723f63785",
   "metadata": {
    "pycharm": {
     "name": "#%%\n"
    }
   },
   "outputs": [
    {
     "data": {
      "text/plain": [
       "[Row(satisfaction='dissatisfied', Gender='Female', Customer Type='Loyal Customer', Age=7, Type of Travel='Personal Travel', Class='Business', Flight Distance=2295, Seat comfort=4, Departure/Arrival time convenient=4, Food and drink=4, Gate location=3, Inflight wifi service=1, Inflight entertainment=4, Online support=1, Ease of Online booking=1, On-board service=5, Leg room service=4, Baggage handling=4, Checkin service=3, Cleanliness=4, Online boarding=1, Departure Delay in Minutes=24, ADMI=10, satisfaction_indexed=1.0, Gender_indexed=0.0, Customer Type_indexed=0.0, Type of Travel_indexed=1.0, Class_indexed=0.0, Seat comfort_indexed=2.0, Departure/Arrival time convenient_indexed=0.0, Food and drink_indexed=2.0, Gate location_indexed=0.0, Inflight wifi service_indexed=4.0, Inflight entertainment_indexed=0.0, Online support_indexed=4.0, Ease of Online booking_indexed=4.0, On-board service_indexed=1.0, Leg room service_indexed=0.0, Baggage handling_indexed=0.0, Checkin service_indexed=1.0, Cleanliness_indexed=0.0, Online boarding_indexed=4.0, continuous_features=DenseVector([7.0, 2295.0, 24.0, 10.0]), continuous_features_scaled=DenseVector([0.0, 0.3255, 0.0151, 0.0078]), features=SparseVector(23, {0: 1.0, 3: 1.0, 5: 2.0, 7: 2.0, 9: 4.0, 11: 4.0, 12: 4.0, 13: 1.0, 16: 1.0, 18: 4.0, 20: 0.3255, 21: 0.0151, 22: 0.0078}), satisfaction_encoded=1.0, rawPrediction=DenseVector([-3.253, 3.253]), probability=DenseVector([0.0372, 0.9628]), prediction=1.0)]"
      ]
     },
     "execution_count": 114,
     "metadata": {},
     "output_type": "execute_result"
    }
   ],
   "source": [
    "\n",
    "predictions = pipeline_model.transform(test)\n",
    "predictions.head(1)\n",
    "# predictions.select('satisfaction', 'features',  'rawPrediction', 'prediction', 'probability').toPandas().head(5)"
   ]
  },
  {
   "cell_type": "markdown",
   "id": "5a873ba2-7b5b-4dd9-a479-7011d8f89317",
   "metadata": {
    "pycharm": {
     "name": "#%% md\n"
    }
   },
   "source": [
    "## Prediction Schema"
   ]
  },
  {
   "cell_type": "code",
   "execution_count": 113,
   "id": "47c045e2-37f9-429a-9a84-f00bd0f50384",
   "metadata": {
    "pycharm": {
     "name": "#%%\n"
    }
   },
   "outputs": [
    {
     "name": "stdout",
     "output_type": "stream",
     "text": [
      "root\n",
      " |-- satisfaction: string (nullable = true)\n",
      " |-- Gender: string (nullable = true)\n",
      " |-- Customer Type: string (nullable = true)\n",
      " |-- Age: integer (nullable = true)\n",
      " |-- Type of Travel: string (nullable = true)\n",
      " |-- Class: string (nullable = true)\n",
      " |-- Flight Distance: integer (nullable = true)\n",
      " |-- Seat comfort: integer (nullable = true)\n",
      " |-- Departure/Arrival time convenient: integer (nullable = true)\n",
      " |-- Food and drink: integer (nullable = true)\n",
      " |-- Gate location: integer (nullable = true)\n",
      " |-- Inflight wifi service: integer (nullable = true)\n",
      " |-- Inflight entertainment: integer (nullable = true)\n",
      " |-- Online support: integer (nullable = true)\n",
      " |-- Ease of Online booking: integer (nullable = true)\n",
      " |-- On-board service: integer (nullable = true)\n",
      " |-- Leg room service: integer (nullable = true)\n",
      " |-- Baggage handling: integer (nullable = true)\n",
      " |-- Checkin service: integer (nullable = true)\n",
      " |-- Cleanliness: integer (nullable = true)\n",
      " |-- Online boarding: integer (nullable = true)\n",
      " |-- Departure Delay in Minutes: integer (nullable = true)\n",
      " |-- ADMI: integer (nullable = true)\n",
      " |-- satisfaction_indexed: double (nullable = false)\n",
      " |-- Gender_indexed: double (nullable = false)\n",
      " |-- Customer Type_indexed: double (nullable = false)\n",
      " |-- Type of Travel_indexed: double (nullable = false)\n",
      " |-- Class_indexed: double (nullable = false)\n",
      " |-- Seat comfort_indexed: double (nullable = false)\n",
      " |-- Departure/Arrival time convenient_indexed: double (nullable = false)\n",
      " |-- Food and drink_indexed: double (nullable = false)\n",
      " |-- Gate location_indexed: double (nullable = false)\n",
      " |-- Inflight wifi service_indexed: double (nullable = false)\n",
      " |-- Inflight entertainment_indexed: double (nullable = false)\n",
      " |-- Online support_indexed: double (nullable = false)\n",
      " |-- Ease of Online booking_indexed: double (nullable = false)\n",
      " |-- On-board service_indexed: double (nullable = false)\n",
      " |-- Leg room service_indexed: double (nullable = false)\n",
      " |-- Baggage handling_indexed: double (nullable = false)\n",
      " |-- Checkin service_indexed: double (nullable = false)\n",
      " |-- Cleanliness_indexed: double (nullable = false)\n",
      " |-- Online boarding_indexed: double (nullable = false)\n",
      " |-- continuous_features: vector (nullable = true)\n",
      " |-- continuous_features_scaled: vector (nullable = true)\n",
      " |-- features: vector (nullable = true)\n",
      " |-- satisfaction_encoded: double (nullable = false)\n",
      " |-- rawPrediction: vector (nullable = true)\n",
      " |-- probability: vector (nullable = true)\n",
      " |-- prediction: double (nullable = false)\n",
      "\n"
     ]
    }
   ],
   "source": [
    "data_train.printSchema()"
   ]
  },
  {
   "cell_type": "code",
   "execution_count": null,
   "id": "2d715c92-c968-44d8-8e55-3ac056715c3e",
   "metadata": {
    "pycharm": {
     "name": "#%%\n"
    }
   },
   "outputs": [],
   "source": []
  }
 ],
 "metadata": {
  "kernelspec": {
   "display_name": "Python 3 (ipykernel)",
   "language": "python",
   "name": "python3"
  },
  "language_info": {
   "codemirror_mode": {
    "name": "ipython",
    "version": 3
   },
   "file_extension": ".py",
   "mimetype": "text/x-python",
   "name": "python",
   "nbconvert_exporter": "python",
   "pygments_lexer": "ipython3",
   "version": "3.9.10"
  }
 },
 "nbformat": 4,
 "nbformat_minor": 5
}